{
 "cells": [
  {
   "cell_type": "code",
   "execution_count": 1,
   "id": "f9e59a28",
   "metadata": {},
   "outputs": [
    {
     "data": {
      "text/plain": [
       "7"
      ]
     },
     "execution_count": 1,
     "metadata": {},
     "output_type": "execute_result"
    }
   ],
   "source": [
    "3 + 4"
   ]
  },
  {
   "cell_type": "markdown",
   "id": "446655c6",
   "metadata": {},
   "source": [
    "3 + 4"
   ]
  },
  {
   "cell_type": "markdown",
   "id": "baf9a094",
   "metadata": {},
   "source": [
    "# H1 jackson kemats"
   ]
  },
  {
   "cell_type": "markdown",
   "id": "c869b9fe",
   "metadata": {},
   "source": [
    "1. I hope to expand my coding knowledge.\n",
    "2. I would like to be able to code a bit faster.\n"
   ]
  },
  {
   "cell_type": "code",
   "execution_count": null,
   "id": "ef4f2132",
   "metadata": {},
   "outputs": [],
   "source": []
  }
 ],
 "metadata": {
  "kernelspec": {
   "display_name": "Python 3 (ipykernel)",
   "language": "python",
   "name": "python3"
  },
  "language_info": {
   "codemirror_mode": {
    "name": "ipython",
    "version": 3
   },
   "file_extension": ".py",
   "mimetype": "text/x-python",
   "name": "python",
   "nbconvert_exporter": "python",
   "pygments_lexer": "ipython3",
   "version": "3.11.4"
  }
 },
 "nbformat": 4,
 "nbformat_minor": 5
}
